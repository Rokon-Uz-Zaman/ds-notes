{
 "cells": [
  {
   "cell_type": "markdown",
   "metadata": {},
   "source": [
    "#### 1.1 Creating a Vector"
   ]
  },
  {
   "cell_type": "code",
   "execution_count": null,
   "metadata": {},
   "outputs": [],
   "source": [
    "import numpy as np\n",
    "\n",
    "# Row vector\n",
    "row_vec = np.array([1,2,3])\n",
    "\n",
    "# Column vector\n",
    "col_vec = np.array([[1],\n",
    "                    [2],\n",
    "                    [3]])"
   ]
  },
  {
   "cell_type": "markdown",
   "metadata": {},
   "source": [
    "#### 1.2 Creating a Matrix"
   ]
  },
  {
   "cell_type": "code",
   "execution_count": 5,
   "metadata": {},
   "outputs": [
    {
     "name": "stdout",
     "output_type": "stream",
     "text": [
      "[[1 2 3]\n",
      " [4 5 6]\n",
      " [7 8 9]]\n"
     ]
    }
   ],
   "source": [
    "# Two dimentional ndarray\n",
    "matrix = np.array([[1,2,3],\n",
    "                   [4,5,6],\n",
    "                   [7,8,9]])\n",
    "print(matrix)"
   ]
  },
  {
   "cell_type": "code",
   "execution_count": 6,
   "metadata": {},
   "outputs": [
    {
     "name": "stdout",
     "output_type": "stream",
     "text": [
      "[[1 2 3]\n",
      " [4 5 6]\n",
      " [7 8 9]]\n"
     ]
    }
   ],
   "source": [
    "# Dedicated matrix function\n",
    "matrix = np.mat([[1,2,3],\n",
    "                 [4,5,6],\n",
    "                 [7,8,9]])\n",
    "print(matrix)\n",
    "# This function to create matrix is not recommended over ndarray"
   ]
  },
  {
   "cell_type": "markdown",
   "metadata": {},
   "source": [
    "#### 1.3 Creating a Sparse Matrix"
   ]
  },
  {
   "cell_type": "code",
   "execution_count": 7,
   "metadata": {},
   "outputs": [
    {
     "name": "stdout",
     "output_type": "stream",
     "text": [
      "[[0 0 0 0 0 0 0 0 0 0]\n",
      " [0 1 0 0 0 0 0 0 0 0]\n",
      " [3 0 0 0 0 0 0 0 0 0]]\n",
      "232\n"
     ]
    }
   ],
   "source": [
    "# Why and when to use sparse matrix - when you have a huge matrix having very few non-zero values, use sparse matrix, its very space efficient.\n",
    "\n",
    "import numpy as np\n",
    "from scipy import sparse\n",
    "import sys\n",
    "\n",
    "matrix = np.array(([[0, 0, 0, 0, 0, 0, 0, 0, 0, 0],\n",
    "                    [0, 1, 0, 0, 0, 0, 0, 0, 0, 0],\n",
    "                    [3, 0, 0, 0, 0, 0, 0, 0, 0, 0]]))\n",
    "\n",
    "print(matrix)\n",
    "print(sys.getsizeof(matrix))"
   ]
  },
  {
   "cell_type": "code",
   "execution_count": 8,
   "metadata": {},
   "outputs": [
    {
     "name": "stdout",
     "output_type": "stream",
     "text": [
      "  (1, 1)\t1\n",
      "  (2, 0)\t3\n",
      "56\n"
     ]
    }
   ],
   "source": [
    "sparse_matrix = sparse.csr_matrix(matrix)\n",
    "print(sparse_matrix)\n",
    "print(sys.getsizeof(sparse_matrix))\n",
    "\n",
    "# There are different types of sparse matrices with meaningful differences, no sparse matrix is best. You should know why you\n",
    "# are choosing one over another.\n",
    "\n",
    "# Sparse matrix is space efficient 232 vs 56."
   ]
  },
  {
   "cell_type": "markdown",
   "metadata": {},
   "source": [
    "#### 1.4 Selecting elements"
   ]
  },
  {
   "cell_type": "code",
   "execution_count": 9,
   "metadata": {},
   "outputs": [
    {
     "name": "stdout",
     "output_type": "stream",
     "text": [
      "4\n",
      "[3 4 5 6 7 8]\n",
      "[3 5 7 9]\n"
     ]
    }
   ],
   "source": [
    "import numpy as np\n",
    "\n",
    "vector = np.array([1,2,3,4,5,6,7,8,9])\n",
    "\n",
    "'''\n",
    "Selecting elements from 1-d array.\n",
    "-Single element\n",
    "-Subarray\n",
    "    -Continuous\n",
    "    -Discontinuous\n",
    "'''\n",
    "\n",
    "e = vector[3]\n",
    "cont_array = vector[2:8]\n",
    "discont_array = vector[2:9:2]\n",
    "\n",
    "print(e)\n",
    "print(cont_array)\n",
    "print(discont_array)"
   ]
  },
  {
   "cell_type": "code",
   "execution_count": 17,
   "metadata": {},
   "outputs": [
    {
     "name": "stdout",
     "output_type": "stream",
     "text": [
      "3\n",
      "3\n",
      "[[2]\n",
      " [5]]\n",
      "[[2]\n",
      " [5]\n",
      " [8]]\n"
     ]
    }
   ],
   "source": [
    "'''\n",
    "Selecting elements from 1-d array.\n",
    "-Single element\n",
    "-Subarray\n",
    "    -Continuous\n",
    "    -Discontinuous\n",
    "'''\n",
    "matrix = np.array([[1,2,3], \n",
    "                   [4,5,6], \n",
    "                   [7,8,9]])\n",
    "\n",
    "# Single element, tuple containing index of each dimension.\n",
    "print(matrix[0, 2])\n",
    "print(matrix[(0, 2)])\n",
    "\n",
    "# Subarray - continuous sequence, tuple containing (start, stop) for each dimension.\n",
    "print(matrix[0:2, 1:2])\n",
    "\n",
    "# Subarray - continuous sequence, tuple containing (start, stop) for each dimension.\n",
    "print(matrix[0::1, 1::2])"
   ]
  },
  {
   "cell_type": "markdown",
   "metadata": {},
   "source": [
    "#### 1.5 Describing a Matrix"
   ]
  },
  {
   "cell_type": "code",
   "execution_count": 18,
   "metadata": {},
   "outputs": [
    {
     "name": "stdout",
     "output_type": "stream",
     "text": [
      "2\n",
      "(3, 3)\n",
      "9\n"
     ]
    }
   ],
   "source": [
    "import numpy as np\n",
    "\n",
    "matrix = np.array([[1,2,3], \n",
    "                   [4,5,6], \n",
    "                   [7,8,9]])\n",
    "\n",
    "# Number of dimension\n",
    "print(matrix.ndim)\n",
    "\n",
    "# Shape of matrix\n",
    "print(matrix.shape)\n",
    "\n",
    "# Size of matrix - total number of items in matrix\n",
    "print(matrix.size)"
   ]
  },
  {
   "cell_type": "markdown",
   "metadata": {},
   "source": [
    "#### 1.6 Applying Operations to Elements"
   ]
  },
  {
   "cell_type": "code",
   "execution_count": 19,
   "metadata": {},
   "outputs": [
    {
     "name": "stdout",
     "output_type": "stream",
     "text": [
      "[[-3  1  7]\n",
      " [15 25 37]\n",
      " [51 67 85]]\n"
     ]
    }
   ],
   "source": [
    "# Ndarray functions by default perform elementwise operations, if you have written a custom function and you want\n",
    "# to make it ndarray aware then use np.vectorize.\n",
    "\n",
    "import numpy as np\n",
    "\n",
    "data = np.array([[1,2,3], \n",
    "                 [4,5,6], \n",
    "                 [7,8,9]])\n",
    "\n",
    "f = lambda x: x**2 + x - 5\n",
    "\n",
    "vectorized_f = np.vectorize(f)\n",
    "\n",
    "result_data = vectorized_f(data)\n",
    "\n",
    "print(result_data)"
   ]
  },
  {
   "cell_type": "markdown",
   "metadata": {},
   "source": [
    "#### 1.7 Finding the Maximum and Minimum Values"
   ]
  },
  {
   "cell_type": "code",
   "execution_count": 20,
   "metadata": {},
   "outputs": [
    {
     "name": "stdout",
     "output_type": "stream",
     "text": [
      "[1 2 3]\n",
      "[1 4 7]\n",
      "1\n"
     ]
    }
   ],
   "source": [
    "import numpy as np\n",
    "\n",
    "data = np.array([[1,2,3], \n",
    "                 [4,5,6], \n",
    "                 [7,8,9]])\n",
    "\n",
    "# min element from every columns.\n",
    "print(np.min(data, axis=0))\n",
    "\n",
    "# min element from every row.\n",
    "print(np.min(data, axis=1))\n",
    "\n",
    "# min element from whole array.\n",
    "print(np.min(data))\n",
    "\n",
    "# For maximum use np.max \n",
    "np.max(data)"
   ]
  },
  {
   "cell_type": "markdown",
   "metadata": {},
   "source": [
    "#### 1.8 Calculating the Average, Variance, and Standard Deviation"
   ]
  },
  {
   "cell_type": "code",
   "execution_count": 21,
   "metadata": {},
   "outputs": [
    {
     "name": "stdout",
     "output_type": "stream",
     "text": [
      "5.0\n",
      "6.666666666666667\n",
      "2.581988897471611\n"
     ]
    }
   ],
   "source": [
    "import numpy as np\n",
    "\n",
    "data = np.array([[1,2,3], \n",
    "                 [4,5,6], \n",
    "                 [7,8,9]])\n",
    "\n",
    "# Mean of the elements\n",
    "print(np.mean(data))\n",
    "\n",
    "# Varience of the elements\n",
    "print(np.var(data))\n",
    "\n",
    "# Standard deviation of the data\n",
    "print(np.std(data))\n",
    "\n",
    "# Use axis parameter in case you want to calculate the same for perticular dimension(row, columns)"
   ]
  },
  {
   "cell_type": "markdown",
   "metadata": {},
   "source": [
    "#### 1.9 Reshaping Arrays"
   ]
  },
  {
   "cell_type": "code",
   "execution_count": null,
   "metadata": {},
   "outputs": [],
   "source": []
  }
 ],
 "metadata": {
  "kernelspec": {
   "display_name": "Python 3",
   "language": "python",
   "name": "python3"
  },
  "language_info": {
   "codemirror_mode": {
    "name": "ipython",
    "version": 3
   },
   "file_extension": ".py",
   "mimetype": "text/x-python",
   "name": "python",
   "nbconvert_exporter": "python",
   "pygments_lexer": "ipython3",
   "version": "3.6.5"
  }
 },
 "nbformat": 4,
 "nbformat_minor": 2
}
