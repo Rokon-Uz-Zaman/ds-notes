{
 "cells": [
  {
   "cell_type": "markdown",
   "metadata": {},
   "source": [
    "#### 1.1 Creating a Vector"
   ]
  },
  {
   "cell_type": "code",
   "execution_count": null,
   "metadata": {},
   "outputs": [],
   "source": [
    "import numpy as np\n",
    "\n",
    "# Row vector\n",
    "row_vec = np.array([1,2,3])\n",
    "\n",
    "# Column vector\n",
    "col_vec = np.array([[1],\n",
    "                    [2],\n",
    "                    [3]])"
   ]
  },
  {
   "cell_type": "markdown",
   "metadata": {},
   "source": [
    "#### 1.2 Creating a Matrix"
   ]
  },
  {
   "cell_type": "code",
   "execution_count": 5,
   "metadata": {},
   "outputs": [
    {
     "name": "stdout",
     "output_type": "stream",
     "text": [
      "[[1 2 3]\n",
      " [4 5 6]\n",
      " [7 8 9]]\n"
     ]
    }
   ],
   "source": [
    "# Two dimentional ndarray\n",
    "matrix = np.array([[1,2,3],\n",
    "                   [4,5,6],\n",
    "                   [7,8,9]])\n",
    "print(matrix)"
   ]
  },
  {
   "cell_type": "code",
   "execution_count": 6,
   "metadata": {},
   "outputs": [
    {
     "name": "stdout",
     "output_type": "stream",
     "text": [
      "[[1 2 3]\n",
      " [4 5 6]\n",
      " [7 8 9]]\n"
     ]
    }
   ],
   "source": [
    "# Dedicated matrix function\n",
    "matrix = np.mat([[1,2,3],\n",
    "                 [4,5,6],\n",
    "                 [7,8,9]])\n",
    "print(matrix)\n",
    "# This function to create matrix is not recommended over ndarray"
   ]
  },
  {
   "cell_type": "markdown",
   "metadata": {},
   "source": [
    "#### 1.3 Creating a Sparse Matrix"
   ]
  },
  {
   "cell_type": "code",
   "execution_count": 7,
   "metadata": {},
   "outputs": [
    {
     "name": "stdout",
     "output_type": "stream",
     "text": [
      "[[0 0 0 0 0 0 0 0 0 0]\n",
      " [0 1 0 0 0 0 0 0 0 0]\n",
      " [3 0 0 0 0 0 0 0 0 0]]\n",
      "232\n"
     ]
    }
   ],
   "source": [
    "# Why and when to use sparse matrix - when you have a huge matrix having very few non-zero values, use sparse matrix, its very space efficient.\n",
    "\n",
    "import numpy as np\n",
    "from scipy import sparse\n",
    "import sys\n",
    "\n",
    "matrix = np.array(([[0, 0, 0, 0, 0, 0, 0, 0, 0, 0],\n",
    "                    [0, 1, 0, 0, 0, 0, 0, 0, 0, 0],\n",
    "                    [3, 0, 0, 0, 0, 0, 0, 0, 0, 0]]))\n",
    "\n",
    "print(matrix)\n",
    "print(sys.getsizeof(matrix))"
   ]
  },
  {
   "cell_type": "code",
   "execution_count": 8,
   "metadata": {},
   "outputs": [
    {
     "name": "stdout",
     "output_type": "stream",
     "text": [
      "  (1, 1)\t1\n",
      "  (2, 0)\t3\n",
      "56\n"
     ]
    }
   ],
   "source": [
    "sparse_matrix = sparse.csr_matrix(matrix)\n",
    "print(sparse_matrix)\n",
    "print(sys.getsizeof(sparse_matrix))\n",
    "\n",
    "# There are different types of sparse matrices with meaningful differences, no sparse matrix is best. You should know why you\n",
    "# are choosing one over another.\n",
    "\n",
    "# Sparse matrix is space efficient 232 vs 56."
   ]
  },
  {
   "cell_type": "markdown",
   "metadata": {},
   "source": [
    "#### 1.4 Selecting elements"
   ]
  },
  {
   "cell_type": "code",
   "execution_count": 9,
   "metadata": {},
   "outputs": [
    {
     "name": "stdout",
     "output_type": "stream",
     "text": [
      "4\n",
      "[3 4 5 6 7 8]\n",
      "[3 5 7 9]\n"
     ]
    }
   ],
   "source": [
    "import numpy as np\n",
    "\n",
    "vector = np.array([1,2,3,4,5,6,7,8,9])\n",
    "\n",
    "'''\n",
    "Selecting elements from 1-d array.\n",
    "-Single element\n",
    "-Subarray\n",
    "    -Continuous\n",
    "    -Discontinuous\n",
    "'''\n",
    "\n",
    "e = vector[3]\n",
    "cont_array = vector[2:8]\n",
    "discont_array = vector[2:9:2]\n",
    "\n",
    "print(e)\n",
    "print(cont_array)\n",
    "print(discont_array)"
   ]
  },
  {
   "cell_type": "code",
   "execution_count": 17,
   "metadata": {},
   "outputs": [
    {
     "name": "stdout",
     "output_type": "stream",
     "text": [
      "3\n",
      "3\n",
      "[[2]\n",
      " [5]]\n",
      "[[2]\n",
      " [5]\n",
      " [8]]\n"
     ]
    }
   ],
   "source": [
    "'''\n",
    "Selecting elements from 1-d array.\n",
    "-Single element\n",
    "-Subarray\n",
    "    -Continuous\n",
    "    -Discontinuous\n",
    "'''\n",
    "matrix = np.array([[1,2,3], \n",
    "                   [4,5,6], \n",
    "                   [7,8,9]])\n",
    "\n",
    "# Single element, tuple containing index of each dimension.\n",
    "print(matrix[0, 2])\n",
    "print(matrix[(0, 2)])\n",
    "\n",
    "# Subarray - continuous sequence, tuple containing (start, stop) for each dimension.\n",
    "print(matrix[0:2, 1:2])\n",
    "\n",
    "# Subarray - continuous sequence, tuple containing (start, stop) for each dimension.\n",
    "print(matrix[0::1, 1::2])"
   ]
  },
  {
   "cell_type": "markdown",
   "metadata": {},
   "source": [
    "#### 1.5 Describing a Matrix"
   ]
  },
  {
   "cell_type": "code",
   "execution_count": 18,
   "metadata": {},
   "outputs": [
    {
     "name": "stdout",
     "output_type": "stream",
     "text": [
      "2\n",
      "(3, 3)\n",
      "9\n"
     ]
    }
   ],
   "source": [
    "import numpy as np\n",
    "\n",
    "matrix = np.array([[1,2,3], \n",
    "                   [4,5,6], \n",
    "                   [7,8,9]])\n",
    "\n",
    "# Number of dimension\n",
    "print(matrix.ndim)\n",
    "\n",
    "# Shape of matrix\n",
    "print(matrix.shape)\n",
    "\n",
    "# Size of matrix - total number of items in matrix\n",
    "print(matrix.size)"
   ]
  },
  {
   "cell_type": "markdown",
   "metadata": {},
   "source": [
    "#### 1.6 Applying Operations to Elements"
   ]
  },
  {
   "cell_type": "code",
   "execution_count": 19,
   "metadata": {},
   "outputs": [
    {
     "name": "stdout",
     "output_type": "stream",
     "text": [
      "[[-3  1  7]\n",
      " [15 25 37]\n",
      " [51 67 85]]\n"
     ]
    }
   ],
   "source": [
    "# Ndarray functions by default perform elementwise operations, if you have written a custom function and you want\n",
    "# to make it ndarray aware then use np.vectorize.\n",
    "\n",
    "import numpy as np\n",
    "\n",
    "data = np.array([[1,2,3], \n",
    "                 [4,5,6], \n",
    "                 [7,8,9]])\n",
    "\n",
    "f = lambda x: x**2 + x - 5\n",
    "\n",
    "vectorized_f = np.vectorize(f)\n",
    "\n",
    "result_data = vectorized_f(data)\n",
    "\n",
    "print(result_data)"
   ]
  },
  {
   "cell_type": "markdown",
   "metadata": {},
   "source": [
    "#### 1.7 Finding the Maximum and Minimum Values"
   ]
  },
  {
   "cell_type": "code",
   "execution_count": 20,
   "metadata": {},
   "outputs": [
    {
     "name": "stdout",
     "output_type": "stream",
     "text": [
      "[1 2 3]\n",
      "[1 4 7]\n",
      "1\n"
     ]
    }
   ],
   "source": [
    "import numpy as np\n",
    "\n",
    "data = np.array([[1,2,3], \n",
    "                 [4,5,6], \n",
    "                 [7,8,9]])\n",
    "\n",
    "# min element from every columns.\n",
    "print(np.min(data, axis=0))\n",
    "\n",
    "# min element from every row.\n",
    "print(np.min(data, axis=1))\n",
    "\n",
    "# min element from whole array.\n",
    "print(np.min(data))\n",
    "\n",
    "# For maximum use np.max \n",
    "np.max(data)"
   ]
  },
  {
   "cell_type": "markdown",
   "metadata": {},
   "source": [
    "#### 1.8 Calculating the Average, Variance, and Standard Deviation"
   ]
  },
  {
   "cell_type": "code",
   "execution_count": 21,
   "metadata": {},
   "outputs": [
    {
     "name": "stdout",
     "output_type": "stream",
     "text": [
      "5.0\n",
      "6.666666666666667\n",
      "2.581988897471611\n"
     ]
    }
   ],
   "source": [
    "import numpy as np\n",
    "\n",
    "data = np.array([[1,2,3], \n",
    "                 [4,5,6], \n",
    "                 [7,8,9]])\n",
    "\n",
    "# Mean of the elements\n",
    "print(np.mean(data))\n",
    "\n",
    "# Varience of the elements\n",
    "print(np.var(data))\n",
    "\n",
    "# Standard deviation of the data\n",
    "print(np.std(data))\n",
    "\n",
    "# Use axis parameter in case you want to calculate the same for perticular dimension(row, columns)"
   ]
  },
  {
   "cell_type": "markdown",
   "metadata": {},
   "source": [
    "#### 1.9 Reshaping Arrays"
   ]
  },
  {
   "cell_type": "code",
   "execution_count": 3,
   "metadata": {},
   "outputs": [
    {
     "name": "stdout",
     "output_type": "stream",
     "text": [
      "[[ 1  2]\n",
      " [ 3  4]\n",
      " [ 5  6]\n",
      " [ 7  8]\n",
      " [ 9 10]\n",
      " [11 12]]\n",
      "[[ 1  2  3  4]\n",
      " [ 5  6  7  8]\n",
      " [ 9 10 11 12]]\n"
     ]
    }
   ],
   "source": [
    "# Reshape - 1d to nd, nd to 1d, md to nd, nd to \"as many as needed\", \"as many as needed\" to nd.\n",
    "\n",
    "import numpy as np\n",
    "\n",
    "data = np.array([[1,2,3], \n",
    "                 [4,5,6], \n",
    "                 [7,8,9], \n",
    "                 [10,11,12]])\n",
    "\n",
    "reshape_data = data.reshape(6, 2)\n",
    "\n",
    "print(reshape_data)\n",
    "\n",
    "new_data = data.reshape(3, -1)\n",
    "# -1 means as many as needed.\n",
    "print(new_data)"
   ]
  },
  {
   "cell_type": "markdown",
   "metadata": {},
   "source": [
    "#### 1.10 Transposing a Vector or Matrix"
   ]
  },
  {
   "cell_type": "code",
   "execution_count": 5,
   "metadata": {},
   "outputs": [
    {
     "name": "stdout",
     "output_type": "stream",
     "text": [
      "[[1 4]\n",
      " [2 5]\n",
      " [3 6]]\n",
      "[[1]\n",
      " [2]\n",
      " [3]\n",
      " [4]\n",
      " [5]]\n"
     ]
    }
   ],
   "source": [
    "# In context of vector, transpose means converting row vector to column and vice versa.\n",
    "data = np.array([[1,2,3], \n",
    "                 [4,5,6]])\n",
    "\n",
    "print(data.T)\n",
    "\n",
    "# Transpose vector\n",
    "vector = np.array([[1,2,3,4,5]])\n",
    "\n",
    "print(vector.T)"
   ]
  },
  {
   "cell_type": "markdown",
   "metadata": {},
   "source": [
    "#### 1.11 Flattening a Matrix"
   ]
  },
  {
   "cell_type": "code",
   "execution_count": 7,
   "metadata": {},
   "outputs": [
    {
     "name": "stdout",
     "output_type": "stream",
     "text": [
      "[1 2 3 4 5 6 7 8 9]\n",
      "[[1 2 3 4 5 6 7 8 9]]\n"
     ]
    }
   ],
   "source": [
    "data = np.array([[1, 2, 3],\n",
    "                   [4, 5, 6],\n",
    "                   [7, 8, 9]])\n",
    "\n",
    "print(data.flatten())\n",
    "\n",
    "# Flatten using reshape function.\n",
    "print(data.reshape(1, -1))"
   ]
  },
  {
   "cell_type": "markdown",
   "metadata": {},
   "source": [
    "#### 1.12 Finding the Rank of a Matrix"
   ]
  },
  {
   "cell_type": "code",
   "execution_count": 9,
   "metadata": {},
   "outputs": [
    {
     "name": "stdout",
     "output_type": "stream",
     "text": [
      "2\n"
     ]
    }
   ],
   "source": [
    "# Rank - number to linearly independent vectors in matrix.\n",
    "\n",
    "data = np.array([[1,2,3], \n",
    "                 [4,5,6], \n",
    "                 [7,8,9], \n",
    "                 [10,11,12]])\n",
    "\n",
    "rank = np.linalg.matrix_rank(data)\n",
    "\n",
    "print(rank)"
   ]
  },
  {
   "cell_type": "markdown",
   "metadata": {},
   "source": [
    "#### 1.13 Calculating the Determinant"
   ]
  },
  {
   "cell_type": "code",
   "execution_count": 10,
   "metadata": {},
   "outputs": [
    {
     "name": "stdout",
     "output_type": "stream",
     "text": [
      "-9.51619735392994e-16\n"
     ]
    }
   ],
   "source": [
    "# Determinant - a value associated with the square matrix, used for inverse calculation.\n",
    "# Determinant requires matrix to be square in case of 2d matrix, in case of nd matrix, the last two dimensions\n",
    "# should have same dimension.\n",
    "\n",
    "data = np.array([[1, 2, 3],\n",
    "                 [4, 5, 6],\n",
    "                 [7, 8, 9]])\n",
    "\n",
    "determinant = np.linalg.det(data)\n",
    "\n",
    "print(determinant)"
   ]
  },
  {
   "cell_type": "markdown",
   "metadata": {},
   "source": [
    "#### 1.14 Getting the Diagonal of a Matrix"
   ]
  },
  {
   "cell_type": "code",
   "execution_count": 12,
   "metadata": {},
   "outputs": [
    {
     "name": "stdout",
     "output_type": "stream",
     "text": [
      "[1 5 9]\n",
      "[2 6]\n",
      "[4 8]\n"
     ]
    }
   ],
   "source": [
    "# Getting diagonal elements of matrix.\n",
    "\n",
    "data = np.array([[1, 2, 3],\n",
    "                 [4, 5, 6],\n",
    "                 [7, 8, 9]])\n",
    "\n",
    "print(np.diagonal(data))\n",
    "\n",
    "# How to choose a diagonal that is not main diagonal. Use offset parameter in the same function.\n",
    "\n",
    "print(np.diagonal(data, offset=1))\n",
    "\n",
    "print(np.diagonal(data, offset=-1))"
   ]
  },
  {
   "cell_type": "markdown",
   "metadata": {},
   "source": [
    "#### 1.15 Calculating the Trace of a Matrix"
   ]
  },
  {
   "cell_type": "code",
   "execution_count": 15,
   "metadata": {},
   "outputs": [
    {
     "name": "stdout",
     "output_type": "stream",
     "text": [
      "15\n",
      "8\n",
      "15\n"
     ]
    }
   ],
   "source": [
    "# Trace - sum of diagonal elements of the matrix, as matrix has multiple diagonls, a matrix can have multiple trace.\n",
    "data = np.array([[1,2,3], \n",
    "                 [4,5,6], \n",
    "                 [7,8,9], \n",
    "                 [10,11,12]])\n",
    "\n",
    "print(np.trace(data))\n",
    "\n",
    "print(np.trace(data, offset=1))\n",
    "\n",
    "# Calculate trace using diagonal function.\n",
    "print(sum(data.diagonal()))"
   ]
  },
  {
   "cell_type": "markdown",
   "metadata": {},
   "source": [
    "#### 1.16 Finding Eigenvalues and Eigenvectors"
   ]
  },
  {
   "cell_type": "code",
   "execution_count": 26,
   "metadata": {},
   "outputs": [
    {
     "name": "stdout",
     "output_type": "stream",
     "text": [
      "\n",
      "[[-3.73863537e+00  8.77649763e-01 -3.88578059e-16]\n",
      " [-8.46653421e+00  9.68877101e-02 -3.33066907e-16]\n",
      " [-1.31944331e+01 -6.83874343e-01 -7.21644966e-16]]\n",
      "\n",
      "[ -3.15193256 -12.56821563   7.49157328]\n"
     ]
    }
   ],
   "source": [
    "data = np.array([[1, 2, 3],\n",
    "                 [4, 5, 6],\n",
    "                 [7, 8, 9]])\n",
    "\n",
    "eigvalue, eigvector = np.linalg.eig(data)\n",
    "\n",
    "#print(eigvalue)\n",
    "#print(eigvector)\n",
    "\n",
    "# A v = λ v \n",
    "print()\n",
    "print(data.dot(eigvector))\n",
    "print()\n",
    "print(eigvalue.dot(eigvector))"
   ]
  },
  {
   "cell_type": "markdown",
   "metadata": {},
   "source": [
    "#### 1.17 Calculating Dot Products"
   ]
  },
  {
   "cell_type": "code",
   "execution_count": 29,
   "metadata": {},
   "outputs": [
    {
     "name": "stdout",
     "output_type": "stream",
     "text": [
      "32\n",
      "32\n",
      "32\n"
     ]
    }
   ],
   "source": [
    "# ∑ i=1 n  a i  b i \n",
    "# Dot product is a single value and it is sum of product of each element of two vectors.\n",
    "\n",
    "a = np.array([1,2,3])\n",
    "b = np.array([4,5,6])\n",
    "\n",
    "dot_product = np.dot(a, b)\n",
    "\n",
    "print(dot_product)\n",
    "\n",
    "print(a.dot(b))\n",
    "\n",
    "# Python 3.5+\n",
    "\n",
    "print(a @ b)"
   ]
  },
  {
   "cell_type": "markdown",
   "metadata": {},
   "source": [
    "#### 1.18 Adding and Subtracting Matrices"
   ]
  },
  {
   "cell_type": "code",
   "execution_count": 4,
   "metadata": {},
   "outputs": [
    {
     "name": "stdout",
     "output_type": "stream",
     "text": [
      "[[ 2  5  6]\n",
      " [ 8 13 12]\n",
      " [ 9 16 18]]\n",
      "[[ 0 -1  0]\n",
      " [ 0 -3  0]\n",
      " [ 5  0  0]]\n",
      "[[ 2  5  6]\n",
      " [ 8 13 12]\n",
      " [ 9 16 18]]\n",
      "[[ 0 -1  0]\n",
      " [ 0 -3  0]\n",
      " [ 5  0  0]]\n"
     ]
    }
   ],
   "source": [
    "import numpy as np\n",
    "\n",
    "matrix_a = np.array([[1,2,3], \n",
    "                     [4,5,6], \n",
    "                     [7,8,9]])\n",
    "\n",
    "matrix_b = np.array([[1,3,3], \n",
    "                     [4,8,6], \n",
    "                     [2,8,9]])\n",
    "\n",
    "\n",
    "# Add/Substract using numpy add function.\n",
    "print(np.add(matrix_a, matrix_b))\n",
    "print(np.subtract(matrix_a, matrix_b))\n",
    "\n",
    "# Use +/- operators to add/subtract. The ndarray aware objects will override + and - operators to use ndarray add/subtract\n",
    "# methods.\n",
    "\n",
    "print(matrix_a + matrix_b)\n",
    "print(matrix_a - matrix_b)\n",
    "\n",
    "# add/subtract requires matrix to be present in same shape."
   ]
  },
  {
   "cell_type": "markdown",
   "metadata": {},
   "source": [
    "#### 1.19 Multiplying Matrices"
   ]
  },
  {
   "cell_type": "code",
   "execution_count": 7,
   "metadata": {},
   "outputs": [
    {
     "name": "stdout",
     "output_type": "stream",
     "text": [
      "[[ 15  43  42]\n",
      " [ 36 100  96]\n",
      " [ 57 157 150]]\n",
      "[[ 15  43  42]\n",
      " [ 36 100  96]\n",
      " [ 57 157 150]]\n",
      "[[ 1  6  9]\n",
      " [16 40 36]\n",
      " [14 64 81]]\n",
      "[[ 15  43  42]\n",
      " [ 36 100  96]\n",
      " [ 57 157 150]]\n"
     ]
    }
   ],
   "source": [
    "matrix_a = np.array([[1,2,3], \n",
    "                     [4,5,6], \n",
    "                     [7,8,9]])\n",
    "\n",
    "matrix_b = np.array([[1,3,3], \n",
    "                     [4,8,6], \n",
    "                     [2,8,9]])\n",
    "\n",
    "# Matrix multiplication requires matrices to be of same size or column of first matrix should be equal to size of row\n",
    "# of second.\n",
    "\n",
    "# For multipliation use np.dot() function.\n",
    "print(np.dot(matrix_a, matrix_b))\n",
    "\n",
    "# Call dot method directly on ndarray.\n",
    "print(matrix_a.dot(matrix_b))\n",
    "\n",
    "# For element wise multiplication use *.\n",
    "print(matrix_a * matrix_b)\n",
    "\n",
    "# In Python 3.5+ use @ operator for mat mul.\n",
    "print(matrix_a @ matrix_b)"
   ]
  },
  {
   "cell_type": "markdown",
   "metadata": {},
   "source": [
    "#### 1.20 Inverting a Matrix"
   ]
  },
  {
   "cell_type": "code",
   "execution_count": 12,
   "metadata": {},
   "outputs": [
    {
     "name": "stdout",
     "output_type": "stream",
     "text": [
      "[[-1.66666667  1.33333333]\n",
      " [ 0.66666667 -0.33333333]]\n",
      "[[1. 0.]\n",
      " [0. 1.]]\n"
     ]
    }
   ],
   "source": [
    "matrix = np.array([[1, 4],\n",
    "                   [2, 5]])\n",
    "\n",
    "# Inverse is reciprocal in context of matrix. Scalar into its reciprocal equals same scalar. Inverse into its matrix equals\n",
    "# identity matrix.\n",
    "\n",
    "# Matrix inverse\n",
    "inv_matrix = np.linalg.inv(matrix)\n",
    "\n",
    "print(inv_matrix)\n",
    "\n",
    "# A A -1  = I \n",
    "print(matrix @ inv_matrix)\n",
    "\n",
    "# The matrix whoes inverse does not exist is called singular matrix.\n",
    "\n",
    "matrix_b = np.array([[1,3,3], \n",
    "                     [4,8,6], \n",
    "                     [2,8,9]])\n",
    "# print(np.linalg.inv(matrix_b))\n",
    "# raises LinAlgError: Singular matrix\n",
    "\n",
    "# Only square matrices are invertable. The matrix should be at least 2d to calculate its inverse."
   ]
  },
  {
   "cell_type": "markdown",
   "metadata": {},
   "source": [
    "#### 1.21 Generating Random Values"
   ]
  },
  {
   "cell_type": "code",
   "execution_count": 16,
   "metadata": {},
   "outputs": [
    {
     "name": "stdout",
     "output_type": "stream",
     "text": [
      "[0.66133104 0.65008641 0.7323366  0.49588365 0.6997253 ]\n",
      "[6 1 7 1 6 5 5 5 8 2]\n",
      "[ 1.53613407  0.77360935  0.74213583 -0.74353165 -1.02222691  1.14988083\n",
      "  2.2940732  -1.48978941 -0.2991767  -0.43456598]\n"
     ]
    }
   ],
   "source": [
    "# Generate random number between 0.0-1.0\n",
    "random_data = np.random.random(5)\n",
    "print(random_data)\n",
    "\n",
    "# Generate random numbers between given range.\n",
    "random_data = np.random.randint(1, 9, 10)\n",
    "print(random_data)\n",
    "\n",
    "# Generate random data from some probability distributin.\n",
    "random_data = np.random.normal(0.0, 1.0, 10)\n",
    "print(random_data)\n"
   ]
  }
 ],
 "metadata": {
  "kernelspec": {
   "display_name": "Python 3",
   "language": "python",
   "name": "python3"
  },
  "language_info": {
   "codemirror_mode": {
    "name": "ipython",
    "version": 3
   },
   "file_extension": ".py",
   "mimetype": "text/x-python",
   "name": "python",
   "nbconvert_exporter": "python",
   "pygments_lexer": "ipython3",
   "version": "3.6.5"
  }
 },
 "nbformat": 4,
 "nbformat_minor": 2
}
